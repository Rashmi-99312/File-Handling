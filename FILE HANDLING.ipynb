{
 "cells": [
  {
   "cell_type": "code",
   "execution_count": null,
   "id": "0c2e11f0-8a80-402f-81cb-70ed8e5efde0",
   "metadata": {},
   "outputs": [],
   "source": [
    "\n",
    "                               THOERY PART\n",
    "#Question 1: What is the difference between interpreted and compiled languages.\n",
    "Compiled Languages\n",
    "Process: Source code → Compiler → Machine code (binary) → Executed directly by the CPU.\n",
    "Examples: C, C++, Rust, Go.\n",
    "-Faster execution .\n",
    "-Optimizations done at compile time.\n",
    "-Need to recompile after changes.\n",
    "-Less portable unless you rebuild for each platform.\n",
    "\n",
    "Interpreted Languages:\n",
    "-Process: Source code → Interpreter → Line-by-line execution at runtime.\n",
    "Examples: Python, Ruby, JavaScript, PHP.\n",
    "-Easier to test and debug .\n",
    "-Slower execution.\n",
    "-More resource-heavy.\n",
    "\n",
    "#Question 2: What is exception handling in Python?\n",
    "ANS-Exception handling in Python is a way to deal with errors gracefully so your program doesn’t crash when something unexpected happens.\n",
    "\n",
    "#Question 3: What is the purpose of the finally block in exception handling?\n",
    "Ans -Closing files\n",
    "-Releasing resources (e.g., database connections, network sockets)\n",
    "-Freeing memory or locks\n",
    "\n",
    "#Question 4:What is logging in Python?\n",
    "Ans-Logging in Python is a way to record messages about what your program is doing — useful for debugging, monitoring, and auditing. \n",
    "\n",
    "#question 5:What is the significance of the __del__ method in Python?\n",
    "Ans-In Python, the __del__ method is a destructor — it’s called automatically when an object is about to be destroyed.\n",
    "\n",
    "Significance of __del__:\n",
    "Used to clean up resources before an object is deleted.\n",
    "\n",
    "#Question 6:What is the difference between import and from ... import in Python?\n",
    "ans-Feature\t      import\t                 from ... import\n",
    "Scope\t  Imports the entire module\t         Imports specific names\n",
    "Access\t  Must use module.name\t             Can use name directly\n",
    "Clarity\t More explicit                      \tCan be less explicit, but shorter\n",
    "Example\t import os → os.path.join()\t         from os.path import join → join()\n",
    "\n",
    "#Question 7:How can you handle multiple exceptions in Python?\n",
    "Ans-ZeroDivisionError → dividing by zero.\n",
    "-ValueError → invalid type conversion.\n",
    "-FileNotFoundError → accessing a missing file.\n",
    "\n",
    "#question 8: What is the purpose of the with statement when handling files in Python\n",
    "ANS-Its main purpose is to ensure proper acquisition and release of resources automatically — without needing to explicitly call close().\n",
    "\n",
    "#question 9:What is the difference between multithreading and multiprocessing?\n",
    "ANS- Multithreading:\n",
    "-Uses multiple threads within a single process.\n",
    "-Threads share the same memory space.\n",
    "-Best for I/O-bound tasks.\n",
    "-Limited in Python by the Global Interpreter Lock (GIL) — only one thread runs Python bytecode at a time.\n",
    "-Example use cases:\n",
    "    Reading/writing files concurrently.\n",
    "    Handling many client requests in a web server.\n",
    "    Downloading multiple URLs at once.\n",
    "\n",
    " Multiprocessing:\n",
    "-Uses multiple processes.\n",
    "-Each process has its own memory space.\n",
    "-No GIL issue → processes truly run in parallel.\n",
    "-Best for CPU-bound tasks .\n",
    "-Example use cases:\n",
    "   Image processing.\n",
    "   Machine learning model training.\n",
    "   Scientific simulations.\n",
    "\n",
    "#Question 10: What are the advantages of using logging in a program\n",
    "ANS:-\n",
    "  Better Debugging and Monitoring\n",
    "  Different Severity Levels\n",
    "  Persistent Records\n",
    "  \n",
    "#Question 11:What is memory management in Python?\n",
    "Ans-Memory management in Python is the process of allocating, tracking, and freeing memory while your program runs.\n",
    "\n",
    "#Question 12:What are the basic steps involved in exception handling in Python?\n",
    "Ans-Write risky code in try.\n",
    "-Handle errors in except.\n",
    "- Use else for success flow.\n",
    "- Use finally for cleanup.\n",
    "\n",
    "#Question 13:Why is memory management important in Python\n",
    "ANS-Even though Python manages memory automatically with its memory manager and garbage collector.\n",
    "\n",
    "#Question 14:F What is the role of try and except in exception handling?\n",
    "ANS-try Block\n",
    "The try block is where you place risky code — code that might raise an error.\n",
    "Python monitors the code inside try.\n",
    "If no error occurs → the program continues normally.\n",
    "If an error occurs → Python looks for a matching except block.\n",
    "\n",
    "except Block:\n",
    "The except block defines how to respond when a specific exception happens.\n",
    "It prevents the program from crashing and lets you handle errors gracefully.\n",
    "\n",
    "#Question 15:What is the purpose of the else block in exception handling\n",
    "ANS-In Python, the else block in a try-except statement is optional and is used to execute code that should run only if no exception occurs in the try block.\n",
    "\n",
    "Question 16:What are the common logging levels in Python?\n",
    "Ans-\n",
    "   Debug\n",
    "   Info\n",
    "   Warning\n",
    "   Error\n",
    "   Critical\n",
    "\n",
    "#Question 17: What is the difference between os.fork() and multiprocessing in Python\n",
    "Ans-os.fork()\n",
    "Low-level system call\t\n",
    "Unix/Linux only\n",
    "Copy-on-write, separate memory\t\n",
    "Harder to manage\t\n",
    "Manual (pipes, files)\n",
    "Use Cas\tSimple Unix process creation\n",
    "\n",
    "multiprocessing :\n",
    "High-level Python API\n",
    "Cross-platform\n",
    "Separate memory, but can share via Queue/Pipe/Manager\n",
    "Easier with API abstractions\n",
    "Built-in (Queue, Pipe, Manager)\n",
    "Parallel processing, CPU-bound tasks, cross-platform\n",
    "\n",
    "\n",
    "#Question 18: What is the importance of closing a file in Python\n",
    "Ans:\n",
    "    -Release System Resources\n",
    "    -Ensure Data is Written\n",
    "    -Avoid File Corruption\n",
    "\n",
    "#Question 19:F What is the difference between file.read() and file.readline() in Python?\n",
    "Ans-file.read()\n",
    "Reads the entire file (or a specified number of characters) at once.\n",
    "Returns a string containing all content.\n",
    "\n",
    "File.readline()\n",
    "  Reads one line at a time from the file.\n",
    "  Useful for large files or when processing line by line.\n",
    "  Each call moves the file pointer to the next line.\n",
    "\n",
    "#Question 20: What is the logging module in Python used for?\n",
    "Ans-The logging module in Python is used to record messages about events that happen while a program runs. It provides a flexible and standardized way to track, debug, and monitor your application.\n",
    "\n",
    "#Question 21: What is the os module in Python used for in file handling?\n",
    "Ans-The os module in Python provides a way to interact with the operating system, including file and directory operations. In file handling, it’s used to perform tasks that go beyond basic reading and writing, such as creating, deleting, renaming, or checking files and directories.\n",
    "\n",
    "#Question 22:What are the challenges associated with memory management in Python\n",
    "Ans-\n",
    "   Reference Cycles\n",
    "    Memory Leaks\n",
    "    High Memory Overhead\n",
    "    Unpredictable Garbage Collection Timing\n",
    "\n",
    "#Question 23:Why is it important to use multithreading in certain applications?\n",
    "Ans-Efficient I/O-bound Task Handling\n",
    "    Improved Responsiveness\n",
    "    Parallelism in Lightweight Tasks\n",
    "\n",
    "\n",
    "\n",
    "\n",
    "\n",
    "\n",
    "\n"
   ]
  },
  {
   "cell_type": "code",
   "execution_count": 1,
   "id": "1d960daa-3466-4b56-b2f2-2d3cf906ce14",
   "metadata": {},
   "outputs": [],
   "source": [
    "# Question 1: How can you open a file for writing in Python and write a string to it ?\n",
    "# Open a file for writing\n",
    "file = open(\"example.txt\", \"w\") \n",
    "\n",
    "# Write a string to the file\n",
    "file.write(\"Hello, Python!\\n\")\n",
    "\n",
    "file.close()\n"
   ]
  },
  {
   "cell_type": "code",
   "execution_count": 2,
   "id": "a7e374e1-bb8f-464d-aed3-d04d5d504ee1",
   "metadata": {},
   "outputs": [
    {
     "name": "stdout",
     "output_type": "stream",
     "text": [
      "Hello, Python!\n"
     ]
    }
   ],
   "source": [
    "# Question 2:Write a Python program to read the contents of a file and print each line\n",
    "# Open the file in read mode\n",
    "with open(\"example.txt\", \"r\") as file:\n",
    "\n",
    "    for line in file:\n",
    "        print(line, end='')  \n"
   ]
  },
  {
   "cell_type": "code",
   "execution_count": 3,
   "id": "3d68059d-66d0-4529-8498-bb2ab536f299",
   "metadata": {},
   "outputs": [
    {
     "name": "stdout",
     "output_type": "stream",
     "text": [
      "File not found. Creating a new file...\n"
     ]
    }
   ],
   "source": [
    "#Question 3:F How would you handle a case where the file doesn't exist while trying to open it for reading\n",
    "try:\n",
    "    with open(\"nonexistent.txt\", \"r\") as file:\n",
    "        content = file.read()\n",
    "        print(content)\n",
    "except FileNotFoundError:\n",
    "    print(\"File not found. Creating a new file...\")\n",
    "    with open(\"nonexistent.txt\", \"w\") as file:\n",
    "        file.write(\"This is a new file.\")\n"
   ]
  },
  {
   "cell_type": "code",
   "execution_count": 4,
   "id": "2ed8121c-d94e-4db8-9344-5be5dbefa9d9",
   "metadata": {},
   "outputs": [
    {
     "name": "stdout",
     "output_type": "stream",
     "text": [
      "Error: The source file 'source.txt' does not exist.\n"
     ]
    }
   ],
   "source": [
    "#Question 4:Write a Python script that reads from one file and writes its content to another fileFz\n",
    "source_file = \"source.txt\"\n",
    "destination_file = \"destination.txt\"\n",
    "\n",
    "try:\n",
    "    \n",
    "    with open(source_file, \"r\") as src:\n",
    "        content = src.read()  \n",
    "    with open(destination_file, \"w\") as dest:\n",
    "        dest.write(content)  \n",
    "\n",
    "    print(f\"Content successfully copied from {source_file} to {destination_file}.\")\n",
    "\n",
    "except FileNotFoundError:\n",
    "    print(f\"Error: The source file '{source_file}' does not exist.\")\n",
    "\n",
    "except IOError as e:\n",
    "    print(f\"An I/O error occurred: {e}\")\n"
   ]
  },
  {
   "cell_type": "code",
   "execution_count": 5,
   "id": "89f2ec91-9c5e-4604-b092-a613ceaa7c73",
   "metadata": {},
   "outputs": [
    {
     "name": "stdout",
     "output_type": "stream",
     "text": [
      "Error: Cannot divide by zero!\n"
     ]
    }
   ],
   "source": [
    "#Question 5: How would you catch and handle division by zero error in Python\n",
    "try:\n",
    "    numerator = 10\n",
    "    denominator = 0\n",
    "    result = numerator / denominator\n",
    "    print(\"Result:\", result)\n",
    "except ZeroDivisionError:\n",
    "    print(\"Error: Cannot divide by zero!\")\n"
   ]
  },
  {
   "cell_type": "code",
   "execution_count": 6,
   "id": "055c3a0c-6e5c-446a-bd00-68c0c1b85366",
   "metadata": {},
   "outputs": [
    {
     "name": "stdout",
     "output_type": "stream",
     "text": [
      "Error: Cannot divide by zero!\n"
     ]
    }
   ],
   "source": [
    "#Question 6:F Write a Python program that logs an error message to a log file when a division by zero exception occurs\n",
    "import logging\n",
    "\n",
    "logging.basicConfig(\n",
    "    filename=\"error.log\",       \n",
    "    level=logging.ERROR,        \n",
    "    format=\"%(asctime)s - %(levelname)s - %(message)s\"\n",
    ")\n",
    "\n",
    "try:\n",
    "    numerator = 10\n",
    "    denominator = 0\n",
    "    result = numerator / denominator\n",
    "except ZeroDivisionError as e:\n",
    "    print(\"Error: Cannot divide by zero!\")\n",
    "    logging.error(\"Division by zero occurred\", exc_info=True)  \n"
   ]
  },
  {
   "cell_type": "code",
   "execution_count": 7,
   "id": "f0217dac-694d-44b0-91ba-9c8d7fc4bea7",
   "metadata": {},
   "outputs": [],
   "source": [
    "#Question 7: How do you log information at different levels (INFO, ERROR, WARNING) in Python using the logging module\n",
    "import logging\n",
    "\n",
    "\n",
    "logging.basicConfig(\n",
    "    filename=\"app.log\",         \n",
    "    level=logging.DEBUG,          \n",
    "    format=\"%(asctime)s - %(levelname)s - %(message)s\"\n",
    ")\n",
    "\n",
    "# Logging messages at different levels\n",
    "logging.debug(\"This is a debug message\")    \n",
    "logging.info(\"This is an info message\")      \n",
    "logging.warning(\"This is a warning message\") \n",
    "logging.error(\"This is an error message\")   \n",
    "\n"
   ]
  },
  {
   "cell_type": "code",
   "execution_count": 8,
   "id": "2f4fdb69-9481-404b-b3ca-5a5c032aa355",
   "metadata": {},
   "outputs": [
    {
     "name": "stdout",
     "output_type": "stream",
     "text": [
      "Error: The file does not exist!\n"
     ]
    }
   ],
   "source": [
    "#Question 8: Write a program to handle a file opening error using exception handling\n",
    "try:\n",
    "\n",
    "    with open(\"nonexistent_file.txt\", \"r\") as file:\n",
    "        content = file.read()\n",
    "        print(content)\n",
    "except FileNotFoundError:\n",
    "    print(\"Error: The file does not exist!\")\n",
    "except IOError:\n",
    "    print(\"Error: An I/O error occurred while trying to open the file.\")\n"
   ]
  },
  {
   "cell_type": "code",
   "execution_count": 9,
   "id": "4716a7d5-6e0c-4797-9d89-8dbbc7f5d312",
   "metadata": {},
   "outputs": [
    {
     "name": "stdout",
     "output_type": "stream",
     "text": [
      "['Hello, Python!']\n"
     ]
    }
   ],
   "source": [
    "#Question 9: How can you read a file line by line and store its content in a list in Python\n",
    "with open(\"example.txt\", \"r\") as file:\n",
    "    lines = [line.strip() for line in file.readlines()]\n",
    "\n",
    "print(lines)\n",
    "\n"
   ]
  },
  {
   "cell_type": "code",
   "execution_count": 12,
   "id": "6deed5f7-8828-4636-a924-e69bd3e1ae0c",
   "metadata": {},
   "outputs": [],
   "source": [
    "#Question 10: How can you append data to an existing file in Python\n",
    "with open(\"example.txt\", \"a\") as file:\n",
    "    file.write(\"This is a new line.\\n\")\n",
    "lines = [\"Line 1\\n\", \"Line 2\\n\", \"Line 3\\n\"]\n",
    "\n",
    "with open(\"example.txt\", \"a\") as file:\n",
    "    file.writelines(lines)\n",
    "\n"
   ]
  },
  {
   "cell_type": "code",
   "execution_count": 15,
   "id": "a7426b40-2ea6-4d05-b85c-0ccf38368a06",
   "metadata": {},
   "outputs": [
    {
     "name": "stdout",
     "output_type": "stream",
     "text": [
      "Error: The key does not exist !\n"
     ]
    }
   ],
   "source": [
    "#Question 11:Write a Python program that uses a try-except block to handle an error when attempting to access a\n",
    "#dictionary key that doesn't exist.\n",
    "# Sample dictionary\n",
    "my_dict = {\"name\": \"Rashmi\", \"age\": 25}\n",
    "\n",
    "try:\n",
    "\n",
    "    print(\"City:\", my_dict[\"city\"])\n",
    "except KeyError:\n",
    "    print(\"Error: The key does not exist !\")\n"
   ]
  },
  {
   "cell_type": "code",
   "execution_count": 16,
   "id": "a121fdf0-eba8-4aab-b27c-bc731e6f89a0",
   "metadata": {},
   "outputs": [
    {
     "name": "stdin",
     "output_type": "stream",
     "text": [
      "Enter numerator:  15\n",
      "Enter denominator:  5\n"
     ]
    },
    {
     "name": "stdout",
     "output_type": "stream",
     "text": [
      "Result: 3.0\n"
     ]
    }
   ],
   "source": [
    "#Question 12:Write a program that demonstrates using multiple except blocks to handle different types of exceptions\n",
    "try:\n",
    "    num1 = int(input(\"Enter numerator: \"))\n",
    "    num2 = int(input(\"Enter denominator: \"))\n",
    "    \n",
    "    # Perform division\n",
    "    result = num1 / num2\n",
    "    print(\"Result:\", result)\n",
    "\n",
    "except ValueError:\n",
    "    print(\" Please enter a valid number!\")\n",
    "\n",
    "except ZeroDivisionError:\n",
    "    print(\" Cannot divide by zero!\")\n",
    "\n",
    "except Exception as e:\n",
    "    print(\"An unexpected error :\", e)\n"
   ]
  },
  {
   "cell_type": "code",
   "execution_count": 17,
   "id": "c7bfb9e4-e536-4774-ac84-f0a248396293",
   "metadata": {},
   "outputs": [
    {
     "name": "stdout",
     "output_type": "stream",
     "text": [
      "Hello, Python!\n",
      "Line 1\n",
      "Line 2\n",
      "Line 3\n",
      "This is a new line.\n",
      "Line 1\n",
      "Line 2\n",
      "Line 3\n",
      "This is a new line.\n",
      "Line 1\n",
      "Line 2\n",
      "Line 3\n",
      "\n"
     ]
    }
   ],
   "source": [
    "#Question 13: How would you check if a file exists before attempting to read it in Python\n",
    "import os\n",
    "\n",
    "filename = \"example.txt\"\n",
    "\n",
    "if os.path.exists(filename):\n",
    "    with open(filename, \"r\") as file:\n",
    "        content = file.read()\n",
    "        print(content)\n",
    "else:\n",
    "    print(f\"Error: The file '{filename}' does not exist.\")\n"
   ]
  },
  {
   "cell_type": "code",
   "execution_count": 19,
   "id": "988a8307-41b1-4346-948f-b33786606c38",
   "metadata": {},
   "outputs": [],
   "source": [
    "#Question 14:Write a program that uses the logging module to log both informational and error messages\n",
    "import logging\n",
    "logging.basicConfig(\n",
    "    filename=\"app.log\",          \n",
    "    level=logging.DEBUG,           \n",
    "    format=\"%(asctime)s - %(levelname)s - %(message)s\"\n",
    ")\n",
    "\n",
    "\n",
    "logging.info(\"Program started successfully.\")\n",
    "\n",
    "try:\n",
    "    \n",
    "    num1 = 10\n",
    "    num2 = 0\n",
    "    result = num1 / num2\n",
    "except ZeroDivisionError:\n",
    "    logging.error(\"Error: Division by zero occurred!\")\n",
    "\n",
    "# Log another informational message\n",
    "logging.info(\"Program finished execution.\")\n",
    "\n",
    "\n"
   ]
  },
  {
   "cell_type": "code",
   "execution_count": 21,
   "id": "f4e8263b-06a8-4dc5-8e59-9e91a2b7a63a",
   "metadata": {},
   "outputs": [
    {
     "name": "stdout",
     "output_type": "stream",
     "text": [
      "File content:\n",
      "Hello, Python!\n",
      "Line 1\n",
      "Line 2\n",
      "Line 3\n",
      "This is a new line.\n",
      "Line 1\n",
      "Line 2\n",
      "Line 3\n",
      "This is a new line.\n",
      "Line 1\n",
      "Line 2\n",
      "Line 3\n",
      "\n"
     ]
    }
   ],
   "source": [
    "#Question 15: Write a Python program that prints the content of a file and handles the case when the file is emptyF\n",
    "filename = \"example.txt\"\n",
    "\n",
    "try:\n",
    "    with open(filename, \"r\") as file:\n",
    "        content = file.read()\n",
    "        if content:  \n",
    "            print(\"File content:\")\n",
    "            print(content)\n",
    "        else:\n",
    "            print(\"The file is empty.\")\n",
    "except FileNotFoundError:\n",
    "    print(f\"Error: The file '{filename}' does not exist.\")\n"
   ]
  },
  {
   "cell_type": "code",
   "execution_count": 24,
   "id": "8016f749-0188-4213-a94c-b5767f95d788",
   "metadata": {},
   "outputs": [
    {
     "name": "stdout",
     "output_type": "stream",
     "text": [
      "Numbers have been written to 'numbers.txt'.\n"
     ]
    }
   ],
   "source": [
    "#Question 16:Write a Python program to create and write a list of numbers to a file, one number per line\n",
    "# List of numbers\n",
    "numbers = [1, 2, 3, 4, 5, 6, 7, 8, 9, 10]\n",
    "\n",
    "with open(\"numbers.txt\", \"w\") as file:\n",
    "    for number in numbers:\n",
    "        file.write(f\"{number}\\n\")  \n",
    "\n",
    "print(\"Numbers have been written to 'numbers.txt'.\")\n",
    "\n"
   ]
  },
  {
   "cell_type": "code",
   "execution_count": 25,
   "id": "63ede5ef-bc91-44e6-b0de-f2dd2160169f",
   "metadata": {},
   "outputs": [
    {
     "name": "stdout",
     "output_type": "stream",
     "text": [
      "Error: The list index is out of range!\n"
     ]
    }
   ],
   "source": [
    "#Question 17:Write a program that handles both IndexError and KeyError using a try-except block\n",
    "# Sample list and dictionary\n",
    "my_list = [10, 20, 30]\n",
    "my_dict = {\"name\": \"Alice\", \"age\": 25}\n",
    "\n",
    "try:\n",
    "    # Attempt to access an invalid index\n",
    "    print(\"List element:\", my_list[5])\n",
    "    \n",
    "    # Attempt to access a missing key\n",
    "    print(\"Dictionary value:\", my_dict[\"city\"])\n",
    "\n",
    "except IndexError:\n",
    "    print(\"Error: The list index is out of range!\")\n",
    "\n",
    "except KeyError:\n",
    "    print(\"Error: The key does not exist in the dictionary!\")\n"
   ]
  },
  {
   "cell_type": "code",
   "execution_count": 26,
   "id": "f7ede162-d87b-4980-b5c0-15858ac90c8a",
   "metadata": {},
   "outputs": [
    {
     "name": "stdout",
     "output_type": "stream",
     "text": [
      "File content:\n",
      "Hello, Python!\n",
      "Line 1\n",
      "Line 2\n",
      "Line 3\n",
      "This is a new line.\n",
      "Line 1\n",
      "Line 2\n",
      "Line 3\n",
      "This is a new line.\n",
      "Line 1\n",
      "Line 2\n",
      "Line 3\n",
      "\n"
     ]
    }
   ],
   "source": [
    "#Question 18:F How would you open a file and read its contents using a context manager in Python\n",
    "filename = \"example.txt\"\n",
    "with open(filename, \"r\") as file:\n",
    "    content = file.read()  \n",
    "print(\"File content:\")\n",
    "print(content)\n"
   ]
  },
  {
   "cell_type": "code",
   "execution_count": 27,
   "id": "ce674b6a-5910-4cae-a090-e085f6e86800",
   "metadata": {},
   "outputs": [
    {
     "name": "stdout",
     "output_type": "stream",
     "text": [
      "The word 'Python' appears 1 times in the file.\n"
     ]
    }
   ],
   "source": [
    "#Question 19:Write a Python program that reads a file and prints the number of occurrences of a specific word\n",
    "# File and word to searc\n",
    "filename = \"example.txt\"\n",
    "search_word = \"Python\"\n",
    "\n",
    "try:\n",
    "    with open(filename, \"r\") as file:\n",
    "        content = file.read()  # Read the whole file\n",
    "        \n",
    "        # Count occurrences of the word (case-sensitive)\n",
    "        count = content.count(search_word)\n",
    "        \n",
    "    print(f\"The word '{search_word}' appears {count} times in the file.\")\n",
    "\n",
    "except FileNotFoundError:\n",
    "    print(f\"Error: The file '{filename}' does not exist.\")\n"
   ]
  },
  {
   "cell_type": "code",
   "execution_count": 29,
   "id": "db356f59-44ea-451c-a1e9-6f5a3f3325d9",
   "metadata": {},
   "outputs": [
    {
     "name": "stdout",
     "output_type": "stream",
     "text": [
      "File content:\n",
      "Hello, Python!\n",
      "Line 1\n",
      "Line 2\n",
      "Line 3\n",
      "This is a new line.\n",
      "Line 1\n",
      "Line 2\n",
      "Line 3\n",
      "This is a new line.\n",
      "Line 1\n",
      "Line 2\n",
      "Line 3\n",
      "\n"
     ]
    }
   ],
   "source": [
    "#Question 20; How can you check if a file is empty before attempting to read its contents.\n",
    "import os\n",
    "\n",
    "filename = \"example.txt\"\n",
    "\n",
    "if os.path.exists(filename):\n",
    "    if os.path.getsize(filename) > 0:\n",
    "        with open(filename, \"r\") as file:\n",
    "            content = file.read()\n",
    "            print(\"File content:\")\n",
    "            print(content)\n",
    "    else:\n",
    "        print(\"The file is empty.\")\n",
    "else:\n",
    "    print(f\"Error: The file '{filename}' does not exist.\")\n",
    "\n"
   ]
  },
  {
   "cell_type": "code",
   "execution_count": null,
   "id": "9e90b889-e1a8-442f-beb0-bdf4bb5bacfb",
   "metadata": {},
   "outputs": [],
   "source": []
  }
 ],
 "metadata": {
  "kernelspec": {
   "display_name": "Python 3 (ipykernel)",
   "language": "python",
   "name": "python3"
  },
  "language_info": {
   "codemirror_mode": {
    "name": "ipython",
    "version": 3
   },
   "file_extension": ".py",
   "mimetype": "text/x-python",
   "name": "python",
   "nbconvert_exporter": "python",
   "pygments_lexer": "ipython3",
   "version": "3.13.2"
  }
 },
 "nbformat": 4,
 "nbformat_minor": 5
}
